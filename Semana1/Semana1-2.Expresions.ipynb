{
 "cells": [
  {
   "cell_type": "markdown",
   "metadata": {
    "slideshow": {
     "slide_type": "slide"
    }
   },
   "source": [
    "# 1. Expresiones"
   ]
  },
  {
   "cell_type": "code",
   "execution_count": null,
   "metadata": {
    "slideshow": {
     "slide_type": "fragment"
    }
   },
   "outputs": [],
   "source": [
    "a = 3.14 #Constante\n",
    "b = 675 #Constante\n",
    "h = b #Variable  \n",
    "c = -.385E+57 #Expresión aritmética\n",
    "d = a + b * c #Expresión aritmética\n",
    "e = 5 > 2 #Expresión lógica\n",
    "f = \"Hola mundo\" #Mensaje\n",
    "g = True #Valor lógico"
   ]
  },
  {
   "cell_type": "markdown",
   "metadata": {
    "slideshow": {
     "slide_type": "subslide"
    }
   },
   "source": [
    "## 1.1 Expresiones Aritméticas\n",
    "Prioridades:\n",
    "- Primero se ejecutan las operaciones de potenciación\n",
    "- Luego las operaciones de multiplicación, división y módulo\n",
    "- Por último, las operaciones de suma y resta\n",
    "\n",
    "Asociatividades:\n",
    "- La potenciación es asociativa por la derecha\n",
    "- Las demás operaciones son asociativas por la izquierda"
   ]
  },
  {
   "cell_type": "markdown",
   "metadata": {
    "slideshow": {
     "slide_type": "subslide"
    }
   },
   "source": [
    "|Operador||Objetivo|\n",
    "| --- || --- |\n",
    "|+||para la suma|\n",
    "|-||para la resta|\n",
    "|*||para la multiplicación|\n",
    "|/||para la división (cociente real)|\n",
    "|//||para la división (cociente entero)|\n",
    "|%||para el módulo (residuo de división entera)|\n",
    "|**||para la potenciación|"
   ]
  },
  {
   "cell_type": "code",
   "execution_count": 1,
   "metadata": {
    "slideshow": {
     "slide_type": "subslide"
    }
   },
   "outputs": [
    {
     "name": "stdout",
     "output_type": "stream",
     "text": [
      "3\n",
      "0\n",
      "1\n",
      "2\n"
     ]
    }
   ],
   "source": [
    "a = 5\n",
    "b = 3\n",
    "c = 8\n",
    "d = 4\n",
    "e = 2\n",
    "print(c % a) \n",
    "print(c % d)\n",
    "print(c // a) \n",
    "print(c // d)"
   ]
  },
  {
   "cell_type": "code",
   "execution_count": 1,
   "metadata": {
    "scrolled": true,
    "slideshow": {
     "slide_type": "subslide"
    }
   },
   "outputs": [
    {
     "name": "stdout",
     "output_type": "stream",
     "text": [
      "29\n",
      "64\n",
      "20.0\n",
      "0.3125\n",
      "16\n",
      "0\n",
      "1.0\n",
      "4.0\n",
      "4.0\n",
      "1.0\n"
     ]
    }
   ],
   "source": [
    "a = 5\n",
    "b = 3\n",
    "c = 8\n",
    "d = 4\n",
    "e = 2\n",
    "print(a + b * c) #se evalúa: 5 + 24 = 29\n",
    "print((a + b) * c) #se evalúa: 8 * 8 = 64\n",
    "print(a / e * c) #se evalúa: 2.5 * 8 = 20.0\n",
    "print(a / (e * c)) #se evalúa: 5 / 16 = 0.3125\n",
    "print(a // e * c) #se evalúa: 2 * 8 = 16\n",
    "print(a // (e * c)) #se evalúa: 5 / 16 = 0\n",
    "print(c / d / e) #se evalúa: 2 / 2 = 1\n",
    "print(c / (d / e)) #se evalúa: 8 / 2 = 4\n",
    "print(c / d * e) #se evalúa: 2 * 2 = 4\n",
    "print(c / (d * e)) #se evalúa: 8 / 8 = 1"
   ]
  },
  {
   "cell_type": "markdown",
   "metadata": {},
   "source": [
    "Ejercicio [Expresion3]\n",
    "- Dada la expresión algebraica, escribala en lenguaje de programación\n",
    "\n",
    "$ \\frac{a}{b*c} $"
   ]
  },
  {
   "cell_type": "markdown",
   "metadata": {
    "slideshow": {
     "slide_type": "subslide"
    }
   },
   "source": [
    "Ejercicio [Expresion2]\n",
    "- Dada la expresión algebraica, escribala en lenguaje de programación\n",
    "\n",
    "$ a - \\frac{b}{c}\\, + \\frac{b - \\frac{c}{d}}{e} $\n"
   ]
  },
  {
   "cell_type": "markdown",
   "metadata": {},
   "source": [
    "Ejercicio [Expresion3]\n",
    "- Dada la expresión algebraica, escribala en lenguaje de programación\n",
    "\n",
    "$ \\frac{a + b * c}{(d-e)^b} $"
   ]
  }
 ],
 "metadata": {
  "celltoolbar": "Slideshow",
  "kernelspec": {
   "display_name": "Python 3",
   "language": "python",
   "name": "python3"
  },
  "language_info": {
   "codemirror_mode": {
    "name": "ipython",
    "version": 3
   },
   "file_extension": ".py",
   "mimetype": "text/x-python",
   "name": "python",
   "nbconvert_exporter": "python",
   "pygments_lexer": "ipython3",
   "version": "3.8.2"
  }
 },
 "nbformat": 4,
 "nbformat_minor": 5
}
