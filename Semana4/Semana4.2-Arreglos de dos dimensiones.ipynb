{
 "cells": [
  {
   "cell_type": "markdown",
   "id": "62a5f2f1",
   "metadata": {
    "slideshow": {
     "slide_type": "slide"
    }
   },
   "source": [
    "# 1. Introducción\n",
    "En Python, cualquier tabla se puede representar como un arreglo de arreglos (un arreglo, donde cada elemento es a su vez un arreglo)\n",
    "\n",
    "<center><img src=\"Figures/S4-DistanceTable.png\" width=\"800\" height=\"1100\"></center>"
   ]
  },
  {
   "cell_type": "code",
   "execution_count": null,
   "id": "6577332b",
   "metadata": {
    "slideshow": {
     "slide_type": "fragment"
    }
   },
   "outputs": [],
   "source": [
    "distances = [\n",
    "[0, 983, 787, 714, 1375, 967, 1087],\n",
    "[983, 0, 214, 1102, 1763, 1723, 1842],\n",
    "[787, 214, 0, 888, 1549, 1548, 1627],\n",
    "[714, 1102, 888, 0, 661, 781, 810],\n",
    "[1375, 1763, 1549, 661, 0, 1426, 1187],\n",
    "[967, 1723, 1548, 781, 1426, 0, 239],\n",
    "[1087, 1842, 1627, 810, 1187, 239, 0],\n",
    "]\n",
    "\n",
    "print(distances)\n",
    "print(distances[0])\n",
    "print(distances[1])\n",
    "print(distances[1][0])"
   ]
  },
  {
   "cell_type": "markdown",
   "id": "51cf7cf5",
   "metadata": {
    "slideshow": {
     "slide_type": "slide"
    }
   },
   "source": [
    "## Declaración de arreglos de dos dimensiones\n",
    "Veamos el siguiente ejemplo."
   ]
  },
  {
   "cell_type": "code",
   "execution_count": null,
   "id": "0fb559f2",
   "metadata": {
    "slideshow": {
     "slide_type": "fragment"
    }
   },
   "outputs": [],
   "source": [
    "edadesEmpresa = [[34,25,16,32],[34,13,76,23]] # Arreglo simétrico\n",
    "edadesEmpresa2 = [[34,25,16,32],[34,13,76]] # Arreglo asimétrico"
   ]
  },
  {
   "cell_type": "markdown",
   "id": "81b18ec2",
   "metadata": {
    "slideshow": {
     "slide_type": "subslide"
    }
   },
   "source": [
    "### 1. Primera forma:\n",
    "Puede crear una lista de n elementos (por ejemplo, de n ceros) y luego hacer que cada uno de los elementos sea un enlace a otra lista unidimensional de m elementos:"
   ]
  },
  {
   "cell_type": "code",
   "execution_count": null,
   "id": "2755a2fa",
   "metadata": {
    "slideshow": {
     "slide_type": "fragment"
    }
   },
   "outputs": [],
   "source": [
    "f = 6\n",
    "c = 3\n",
    "a = [0] * f\n",
    "for i in range(f):\n",
    "    a[i] = [0] * c\n",
    "print(a)"
   ]
  },
  {
   "cell_type": "markdown",
   "id": "2f5a0ae1",
   "metadata": {
    "slideshow": {
     "slide_type": "subslide"
    }
   },
   "source": [
    "### 2. Segunda forma:\n",
    "Otra forma (pero similar): crear una lista vacía y luego append un nuevo elemento n veces (este elemento debe ser una lista de longitud m ):"
   ]
  },
  {
   "cell_type": "code",
   "execution_count": null,
   "id": "ff2a5500",
   "metadata": {
    "slideshow": {
     "slide_type": "fragment"
    }
   },
   "outputs": [],
   "source": [
    "f = 6\n",
    "c = 3\n",
    "a = []\n",
    "for i in range(f):\n",
    "    a.append([0] * c)\n",
    "print(a)"
   ]
  },
  {
   "cell_type": "markdown",
   "id": "30ecf651",
   "metadata": {
    "slideshow": {
     "slide_type": "subslide"
    }
   },
   "source": [
    "### 3. Tercera forma:\n",
    "Pero la forma más fácil es usar generator, creando una lista de n elementos, cada uno de los cuales es una lista de m ceros:"
   ]
  },
  {
   "cell_type": "code",
   "execution_count": null,
   "id": "bc76dac5",
   "metadata": {
    "slideshow": {
     "slide_type": "fragment"
    }
   },
   "outputs": [],
   "source": [
    "f = 6\n",
    "c = 3\n",
    "a = [[0] * c for i in range(f)]\n",
    "print(a)"
   ]
  },
  {
   "cell_type": "markdown",
   "id": "c791f7d8",
   "metadata": {
    "slideshow": {
     "slide_type": "fragment"
    }
   },
   "source": [
    "<center><img src=\"Figures/S4-FilasColumnas.png\" width=\"500\" height=\"800\"></center>"
   ]
  },
  {
   "cell_type": "markdown",
   "id": "e15035bd",
   "metadata": {
    "slideshow": {
     "slide_type": "slide"
    }
   },
   "source": [
    "# Utilizando los arreglos de dos dimensiones"
   ]
  },
  {
   "cell_type": "markdown",
   "id": "d5042b6e",
   "metadata": {
    "slideshow": {
     "slide_type": "fragment"
    }
   },
   "source": [
    "## Métodos que se pueden usar con arreglos (o listas)\n",
    "\n",
    "|Método||Descripción|\n",
    "| --- || --- |\n",
    "|append()||Agrega un elemento al final de la lista|\n",
    "|clear()||Elimina todos los elementos de la lista|\n",
    "|copy()||Devuelve una copia de la lista|\n",
    "|count()||Devuelve el número de elementos con el valor especificado|\n",
    "|extend()||Agrega los elementos de una lista (o cualquier iterable), al final de la lista actual|\n",
    "|index()||Devuelve el índice del primer elemento con el valor especificado|\n",
    "|insert()||Agrega un elemento en la posición especificada|\n",
    "|pop()||Elimina el elemento en la posición especificada|\n",
    "|remove()||Elimina el primer elemento con el valor especificado|\n",
    "|reverse()||Invierte el orden de la lista|\n",
    "|sort()||Ordena la lista|"
   ]
  },
  {
   "cell_type": "markdown",
   "id": "9e05e1db",
   "metadata": {
    "slideshow": {
     "slide_type": "slide"
    }
   },
   "source": [
    "### 1. Acceso a elementos de un arreglo\n",
    "Para acceder a un elemento individual de un arreglo, basta con colocar el nombre de la variable, seguido por dos corchetes [][], y dentro de los corchetes colocar los indices del elemetos al que se quiere acceder.\n",
    "\n",
    "<center><img src=\"Figures/S4-Asignacion.png\" width=\"500\" height=\"800\"></center>\n",
    "\n",
    "Veamos el siguiente ejemplo:"
   ]
  },
  {
   "cell_type": "code",
   "execution_count": null,
   "id": "59fcae7f",
   "metadata": {
    "slideshow": {
     "slide_type": "fragment"
    }
   },
   "outputs": [],
   "source": [
    "edadesEmpresa = [[34,25,16,32],[34,13,76,23]]\n",
    "print(edadesEmpresa)\n",
    "print(edadesEmpresa[0])\n",
    "print(edadesEmpresa[0][1])\n",
    "\n",
    "print(len(edadesEmpresa))\n",
    "print(len(edadesEmpresa[0]))\n",
    "print(len(edadesEmpresa[1]))\n",
    "\n",
    "edadesEmpresa2 = [[34,25,16,32],[34,13,76]]\n",
    "print(len(edadesEmpresa2))\n",
    "print(len(edadesEmpresa2[0]))\n",
    "print(len(edadesEmpresa2[1]))"
   ]
  },
  {
   "cell_type": "markdown",
   "id": "5b59c2c7",
   "metadata": {
    "slideshow": {
     "slide_type": "slide"
    }
   },
   "source": [
    "## 2. Modificar elementos de un arreglo de dos dimensiones\n",
    "Para modificar datos de un arreglo basta con especificar la posición que se quiere modificar, y luego colocar un “=“, y finalmente el nuevo valor que se desea asignar."
   ]
  },
  {
   "cell_type": "code",
   "execution_count": null,
   "id": "8acc8a5f",
   "metadata": {
    "slideshow": {
     "slide_type": "subslide"
    }
   },
   "outputs": [],
   "source": [
    "a[2][1] = 7\n",
    "print(a)\n",
    "\n",
    "#¿Dónde coloca el valor?"
   ]
  },
  {
   "cell_type": "markdown",
   "id": "568155c2",
   "metadata": {
    "slideshow": {
     "slide_type": "fragment"
    }
   },
   "source": [
    "<center><img src=\"Figures/S4-FilasColumnasValor.png\" width=\"500\" height=\"800\"></center>"
   ]
  },
  {
   "cell_type": "markdown",
   "id": "f86df655",
   "metadata": {
    "slideshow": {
     "slide_type": "subslide"
    }
   },
   "source": [
    "### Llenando una matriz con input"
   ]
  },
  {
   "cell_type": "code",
   "execution_count": null,
   "id": "64ac6a1e",
   "metadata": {
    "slideshow": {
     "slide_type": "fragment"
    }
   },
   "outputs": [],
   "source": [
    "f = int(input(\"Filas\"))\n",
    "c = int(input(\"Columnas\"))\n",
    "matriz = [[0] * c for i in range(f)]\n",
    "print(matriz)\n",
    "\n",
    "for i in range(f):\n",
    "    for j in range(c):\n",
    "        valor = int(input(f\"Ingrese el valor para la empresa {i}, empleado{j}\"))\n",
    "        matriz[i][j] = valor\n",
    "        \n",
    "print(matriz)\n"
   ]
  },
  {
   "cell_type": "markdown",
   "id": "029161b9",
   "metadata": {
    "slideshow": {
     "slide_type": "subslide"
    }
   },
   "source": [
    "•\tEjercicio [PromedioEmpleado] -> Codifique el siguiente programa:\n",
    "\n",
    "- Modifique el anterior programa para que muestre el promedio de edades de los trabajadores de cada empresa.\n"
   ]
  },
  {
   "cell_type": "code",
   "execution_count": null,
   "id": "c990c64b",
   "metadata": {
    "slideshow": {
     "slide_type": "fragment"
    }
   },
   "outputs": [],
   "source": []
  },
  {
   "cell_type": "markdown",
   "id": "08cbf99d",
   "metadata": {
    "slideshow": {
     "slide_type": "fragment"
    }
   },
   "source": [
    "•\tEjercicio [PromedioEmpleado2] -> Codifique el siguiente programa:\n",
    "\n",
    "- Debe crear un método de clase llamado calcularPromedio(int[] edades); el cual recibe un arreglo de edades. Y retorna el promedio de las edades (double).\n",
    "\n",
    "- Cree un for que recorre las empresas e invoque ese método desde el for cree construyo, y verifique que el programa funciona igual que el ejercicio 1."
   ]
  },
  {
   "cell_type": "code",
   "execution_count": null,
   "id": "71a4e62e",
   "metadata": {
    "slideshow": {
     "slide_type": "fragment"
    }
   },
   "outputs": [],
   "source": []
  },
  {
   "cell_type": "markdown",
   "id": "fffab3c4",
   "metadata": {
    "slideshow": {
     "slide_type": "slide"
    }
   },
   "source": [
    "# Ejercicios"
   ]
  },
  {
   "cell_type": "markdown",
   "id": "c41d70ac",
   "metadata": {
    "slideshow": {
     "slide_type": "fragment"
    }
   },
   "source": [
    "•\tEjercicio [ArregloEmpleados] -> Codifique el siguiente programa:\n",
    "- Cree un método de clase en la clase PrincipalEmpleado. \n",
    "\n",
    "- Ese método recibirá un arreglo de empleados, y retornará un valor double (el cual contiene el valor del mayor salario).\n",
    "\n",
    "- Modifique el método main para imprimir ese mayor salario."
   ]
  },
  {
   "cell_type": "code",
   "execution_count": null,
   "id": "2a658831",
   "metadata": {
    "slideshow": {
     "slide_type": "fragment"
    }
   },
   "outputs": [],
   "source": [
    "class Empleado:\n",
    "    def __init__(self, n, s):\n",
    "        self.nombre = n\n",
    "        self.salario = s"
   ]
  }
 ],
 "metadata": {
  "celltoolbar": "Slideshow",
  "kernelspec": {
   "display_name": "Python 3",
   "language": "python",
   "name": "python3"
  },
  "language_info": {
   "codemirror_mode": {
    "name": "ipython",
    "version": 3
   },
   "file_extension": ".py",
   "mimetype": "text/x-python",
   "name": "python",
   "nbconvert_exporter": "python",
   "pygments_lexer": "ipython3",
   "version": "3.9.0"
  },
  "rise": {
   "autolaunch": true,
   "backimage": "mybackimage.png",
   "scroll": true
  }
 },
 "nbformat": 4,
 "nbformat_minor": 5
}
