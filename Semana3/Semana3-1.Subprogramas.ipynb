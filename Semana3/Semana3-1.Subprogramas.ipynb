{
 "cells": [
  {
   "cell_type": "markdown",
   "id": "62a5f2f1",
   "metadata": {
    "slideshow": {
     "slide_type": "slide"
    }
   },
   "source": [
    "# 1. Introducción\n",
    "En ocasiones, es necesario realizar tareas similares en diferentes partes de un programa, pero con valores diferentes; por ejemplo calcular el factorial de un número o mostrar una palabra al revés o decidir si un número es primo.\n",
    "\n",
    "En el siguiente código el cliente no quiere que salga por pantalla el mensaje “el precio del producto…”, si no, “Precio producto 1 es: ”. Pero suponga que ya no son 4 productos si no 400 productos. ¿Qué tocaría hacer?"
   ]
  },
  {
   "cell_type": "code",
   "execution_count": null,
   "id": "6577332b",
   "metadata": {
    "slideshow": {
     "slide_type": "fragment"
    }
   },
   "outputs": [],
   "source": [
    "p1 = 100\n",
    "p2 = 200\n",
    "p3 = 350\n",
    "p4 = 250\n",
    "\n",
    "print(\"El precio del producto 1 es\", p1)\n",
    "print(\"El precio del producto 2 es\", p2)\n",
    "print(\"El precio del producto 3 es\", p3)\n",
    "print(\"El precio del producto 4 es\", p4)"
   ]
  },
  {
   "cell_type": "markdown",
   "id": "51cf7cf5",
   "metadata": {
    "slideshow": {
     "slide_type": "slide"
    }
   },
   "source": [
    "## Funciones o subprogramas\n",
    "En ese caso podemos escribir subprogramas que son fragmentos aislados de código que disminuyen la complejidad de un programa y evitan reescribir código innecesariamente.\n",
    "\n",
    "- Las funciones son esencialmente, bloques reutilizables de código.\n",
    "- Utilizar funciones permite modularizar los programas.\n",
    "- Ahora, un programa complejo, se puede dividir en una serie de partes o bloques más simples.\n",
    "- El uso de funciones provee una serie de ventajas:\n",
    "    - Se facilita la programación.\n",
    "    - Se reutiliza el código.\n",
    "    - Se reducen la cantidad de líneas de código.\n",
    "    - Se facilita el proceso de encontrar errores.\n",
    "    - Se mejora la mantenibilidad.\n",
    "    - Entre otros."
   ]
  },
  {
   "cell_type": "markdown",
   "id": "13463ab9",
   "metadata": {
    "slideshow": {
     "slide_type": "slide"
    }
   },
   "source": [
    "Las definiciones de función no pueden estar vacías, pero si por alguna razón tiene una definición de función sin contenido, coloque la instrucción `pass` para evitar errores."
   ]
  },
  {
   "cell_type": "code",
   "execution_count": null,
   "id": "741c7182",
   "metadata": {
    "slideshow": {
     "slide_type": "fragment"
    }
   },
   "outputs": [],
   "source": [
    "def myfunction():\n",
    "  pass"
   ]
  },
  {
   "cell_type": "markdown",
   "id": "e15035bd",
   "metadata": {
    "slideshow": {
     "slide_type": "subslide"
    }
   },
   "source": [
    "## Creando una función\n",
    "- Una función en Python es un bloque de código con un nombre asociado.\n",
    "- La función recibe cero o más parámetros.\n",
    "- Luego la función contiene un cuerpo en el cual se ejecutan una serie de instrucciones. \n",
    "- Finalmente, la función puede retornar un valor."
   ]
  },
  {
   "cell_type": "code",
   "execution_count": null,
   "id": "ed380a57",
   "metadata": {
    "slideshow": {
     "slide_type": "fragment"
    }
   },
   "outputs": [],
   "source": [
    "#Función sin parámetros y sin retorno\n",
    "def nombreFuncion():\n",
    "    print(\"Hola mundo\")\n",
    "    \n",
    "nombreFuncion()"
   ]
  },
  {
   "cell_type": "markdown",
   "id": "4302b88b",
   "metadata": {
    "slideshow": {
     "slide_type": "fragment"
    }
   },
   "source": [
    "•\tEjercicio [HolaAmigo] \n",
    "- Ahora en lugar de imprimir “Hola mundo” -> imprima “Hola amigo” 5 veces.\n"
   ]
  },
  {
   "cell_type": "markdown",
   "id": "238bfed5",
   "metadata": {
    "slideshow": {
     "slide_type": "slide"
    }
   },
   "source": [
    "## Función con parámetros\n",
    "Un parámetro es un valor que la función espera recibir cuando sea llamada (invocada), a fin de ejecutar acciones en base al mismo. Una función puede esperar uno o más parámetros (que irán separados por una coma) o ninguno."
   ]
  },
  {
   "cell_type": "code",
   "execution_count": null,
   "id": "9f194a04",
   "metadata": {
    "slideshow": {
     "slide_type": "fragment"
    }
   },
   "outputs": [],
   "source": [
    "#Función con parámetros y sin retorno\n",
    "def imprimirPrecio(num:int, precio):\n",
    "    print(f\"Precio producto {num}, es {precio}\")\n",
    "    \n",
    "p2 = 350\n",
    "imprimirPrecio(1,200)\n",
    "imprimirPrecio(2,p2)"
   ]
  },
  {
   "cell_type": "markdown",
   "id": "b99ccbb9",
   "metadata": {
    "slideshow": {
     "slide_type": "subslide"
    }
   },
   "source": [
    "•\tEjercicio [AreaRectangulo] -> Codifique el siguiente programa:\n",
    "- Solicite repetidamente al usuario que ingrese la base y la altura de un rectángulo.\n",
    "- Cada vez que lo haga imprima el área del rectángulo con el uso de una función que reciba la base y la altura."
   ]
  },
  {
   "cell_type": "code",
   "execution_count": null,
   "id": "7f9fe791",
   "metadata": {
    "slideshow": {
     "slide_type": "fragment"
    }
   },
   "outputs": [],
   "source": [
    "def imprimirArearectangulo(base, altura:int):\n",
    "    print(f\"El area es {base * altura}\")\n",
    "\n",
    "i = 0\n",
    "while i < 3:\n",
    "    base = int(input(\"ingrese la base: \"))\n",
    "    altura = int(input(\"ingrese la altura: \"))\n",
    "    imprimirArearectangulo(base, altura)\n",
    "    i += 1"
   ]
  },
  {
   "cell_type": "code",
   "execution_count": null,
   "id": "b4e90a28",
   "metadata": {
    "slideshow": {
     "slide_type": "fragment"
    }
   },
   "outputs": [],
   "source": [
    "def imprimirArearectangulo():\n",
    "    base = int(input(\"ingrese la base: \"))\n",
    "    altura = int(input(\"ingrese la altura: \"))\n",
    "    print(f\"El area es {base * altura}\")\n",
    "\n",
    "i = 0\n",
    "while i < 3:\n",
    "    imprimirArearectangulo()\n",
    "    i += 1"
   ]
  },
  {
   "cell_type": "markdown",
   "id": "5b59c2c7",
   "metadata": {
    "slideshow": {
     "slide_type": "slide"
    }
   },
   "source": [
    "### Sobre los parámetros"
   ]
  },
  {
   "cell_type": "markdown",
   "id": "3b925a2d",
   "metadata": {
    "slideshow": {
     "slide_type": "subslide"
    }
   },
   "source": [
    "##### 1. El orden importa"
   ]
  },
  {
   "cell_type": "code",
   "execution_count": null,
   "id": "22e3a10a",
   "metadata": {
    "slideshow": {
     "slide_type": "fragment"
    }
   },
   "outputs": [],
   "source": [
    "#Función con parámetros y sin retorno\n",
    "def imprimirInfo(nombre, numero):\n",
    "    print(f\"Info nombre: {nombre},numero: {numero}\")\n",
    "    \n",
    "imprimirInfo(\"Lola\",200)\n",
    "imprimirInfo(200,\"Lola\")"
   ]
  },
  {
   "cell_type": "markdown",
   "id": "dc7eef86",
   "metadata": {
    "slideshow": {
     "slide_type": "subslide"
    }
   },
   "source": [
    "##### 2. Es posible, asignar valores por defecto a los parámetros de las funciones."
   ]
  },
  {
   "cell_type": "code",
   "execution_count": null,
   "id": "cc7daaa9",
   "metadata": {
    "slideshow": {
     "slide_type": "fragment"
    }
   },
   "outputs": [],
   "source": [
    "#Función con parámetros, sin retorno y con valores por defecto\n",
    "def imprimirInfo(nombre, numero = 123): #Valor por defecto\n",
    "    print(f\"Info {nombre},{numero}\")\n",
    "    \n",
    "imprimirInfo(\"Lola\",200)\n",
    "imprimirInfo(200,\"Lola\")\n",
    "imprimirInfo(\"Lola\")"
   ]
  },
  {
   "cell_type": "markdown",
   "id": "82636692",
   "metadata": {
    "slideshow": {
     "slide_type": "subslide"
    }
   },
   "source": [
    "##### 3. Si no sabe cuántos argumentos se pasarán a su función, agregue un * antes del nombre del parámetro en la definición de la función. Ojo: Estos argumentos, llegarán a la función en forma de tupla."
   ]
  },
  {
   "cell_type": "code",
   "execution_count": null,
   "id": "25410da5",
   "metadata": {
    "slideshow": {
     "slide_type": "fragment"
    }
   },
   "outputs": [],
   "source": [
    "def miFuncion(*datos):\n",
    "  print(datos)\n",
    "  contador = 0\n",
    "  for x in datos: \n",
    "        print(x)\n",
    "        contador +=1\n",
    "  print(\"El último dato es \",datos[contador-1])\n",
    "\n",
    "miFuncion(\"1\", \"2\", \"3\")\n",
    "miFuncion(1, 2, 3)"
   ]
  },
  {
   "cell_type": "markdown",
   "id": "e379468d",
   "metadata": {
    "slideshow": {
     "slide_type": "slide"
    }
   },
   "source": [
    "## Función con retorno\n",
    "La declaración de retorno de Python es una declaración especial que puede usar dentro de una función o método para enviar el resultado de la función a la persona que llama. Una declaración de retorno consta de la palabra clave `return` seguida de un valor de retorno opcional. El valor de retorno de una función de Python puede ser cualquier objeto de Python."
   ]
  },
  {
   "cell_type": "code",
   "execution_count": null,
   "id": "251ceedc",
   "metadata": {
    "slideshow": {
     "slide_type": "fragment"
    }
   },
   "outputs": [],
   "source": [
    "def miFuncion(x):\n",
    "  return 5 * x\n",
    "\n",
    "x = miFuncion(3)\n",
    "print(x)\n",
    "print(miFuncion(5))\n",
    "print(miFuncion(9))"
   ]
  },
  {
   "cell_type": "markdown",
   "id": "ea447b19",
   "metadata": {
    "slideshow": {
     "slide_type": "subslide"
    }
   },
   "source": [
    "•\tEjercicio [FuncionPalabraInvertida] -> Codifique el siguiente programa:\n",
    "- cree una función que recibe un texto como parámetro, ese texto debe invertirlo y devolverlo al caller.\n",
    "- Invoque varias veces la función."
   ]
  },
  {
   "cell_type": "code",
   "execution_count": null,
   "id": "3838bde0",
   "metadata": {},
   "outputs": [],
   "source": [
    "def invertir_palabra(palabra_input):\n",
    "    palabra_inv = \"\"\n",
    "    for i in range(len(palabra_input)-1, -1, -1):\n",
    "        palabra_inv = palabra_inv + palabra[i]\n",
    "    return palabra_inv\n",
    "    \n",
    "palabra = \"APRENDIENDO PYTHON\"\n",
    "print(invertir_palabra(palabra))\n",
    "\n",
    "palabra = \"USO DE SUBPROGRAMAS\"\n",
    "print(invertir_palabra(palabra))\n",
    "\n",
    "palabra = \"MEDIANTE ESTE EJEMPLO\"\n",
    "print(invertir_palabra(palabra))"
   ]
  },
  {
   "cell_type": "markdown",
   "id": "73088358",
   "metadata": {},
   "source": [
    "# Variables locales y globales\n",
    "- Las variables definidas dentro de un subprograma, tienen alcance solamente en el subprograma y cuando este termina, las variables desaparecen.  Estas variable son llamadas locales\n",
    "- Las variables que están definidas dentro del programa principal o llamante, se pueden usar dentro del subprograma solo si se definen como globales dentro del mismo, en ese caso los cambios que le hagamos a esa variable dentro de la función, también la afectarán fuera de ella."
   ]
  },
  {
   "cell_type": "code",
   "execution_count": null,
   "id": "880d9189",
   "metadata": {
    "slideshow": {
     "slide_type": "fragment"
    }
   },
   "outputs": [],
   "source": [
    "x = \"genial\"\n",
    "\n",
    "def myfunc():\n",
    "  x = \"fantastico\"\n",
    "  print(\"Python es \" + x)\n",
    "\n",
    "myfunc()\n",
    "\n",
    "print(\"Python es \" + x)\n"
   ]
  },
  {
   "cell_type": "code",
   "execution_count": null,
   "id": "33849d85",
   "metadata": {
    "slideshow": {
     "slide_type": "fragment"
    }
   },
   "outputs": [],
   "source": [
    "x = \"genial\"\n",
    "\n",
    "def myfunc():\n",
    "  global x\n",
    "  x = \"fantastic\"\n",
    "  print(\"Python es \" + x)\n",
    "\n",
    "myfunc()\n",
    "\n",
    "print(\"Python es \" + x)"
   ]
  },
  {
   "cell_type": "markdown",
   "id": "f2fad571",
   "metadata": {
    "slideshow": {
     "slide_type": "slide"
    }
   },
   "source": [
    "# Archivos con funciones\n",
    "- Poder usar las funciones que definamos deberíamos escribirlas al principio del programa principal o llamante, además tendríamos que repetirlas en cada programa que escribamos.\n",
    "\n",
    "- Por fortuna Python nos permite invocar uno o varios archivos donde podemos tener escritas las funciones y así no tener que escribirlas en cada programa!"
   ]
  },
  {
   "cell_type": "code",
   "execution_count": null,
   "id": "aa4e3eb7",
   "metadata": {},
   "outputs": [],
   "source": [
    "#Archivo tablas.py\n",
    "def imprima_tablas(m, n):\n",
    "    for i in range(1, m+1):\n",
    "        for j in range(1, n+1):\n",
    "            print(f\"{i} * {j} = {i*j}\")\n"
   ]
  },
  {
   "cell_type": "code",
   "execution_count": null,
   "id": "64e38f19",
   "metadata": {},
   "outputs": [],
   "source": [
    "#principal.py\n",
    "import tablas\n",
    "tablas.imprima_tablas(10, 10)\n"
   ]
  },
  {
   "cell_type": "code",
   "execution_count": null,
   "id": "7f78f0be",
   "metadata": {},
   "outputs": [],
   "source": [
    "#otra_forma.py\n",
    "import tablas as t\n",
    "t.imprima_tablas(10, 10)"
   ]
  },
  {
   "cell_type": "markdown",
   "id": "fffab3c4",
   "metadata": {
    "slideshow": {
     "slide_type": "slide"
    }
   },
   "source": [
    "# Ejercicios"
   ]
  },
  {
   "cell_type": "markdown",
   "id": "c41d70ac",
   "metadata": {
    "slideshow": {
     "slide_type": "fragment"
    }
   },
   "source": [
    "•\tEjercicio [holaMensaje] -> Codifique el siguiente programa:\n",
    "- Cree una función en Python (llamada holaMensaje), que reciba un parámetro.\n",
    "- Esa función por dentro debe imprimir el texto “Hola” +  el parámetro recibido.\n",
    "- Ejemplo:\n",
    "    - Al invocar holaMensaje(“juan”), debe imprimir “Hola juan”.\n",
    "    - Al invocar holaMensaje(“iphone”), debe imprimir “Hola iphone”.\n",
    "    - Al invocar holaMensaje(“sara”), debe imprimir “Hola sara”."
   ]
  },
  {
   "cell_type": "code",
   "execution_count": null,
   "id": "0c94dadf",
   "metadata": {},
   "outputs": [],
   "source": []
  }
 ],
 "metadata": {
  "celltoolbar": "Slideshow",
  "kernelspec": {
   "display_name": "Python 3",
   "language": "python",
   "name": "python3"
  },
  "language_info": {
   "codemirror_mode": {
    "name": "ipython",
    "version": 3
   },
   "file_extension": ".py",
   "mimetype": "text/x-python",
   "name": "python",
   "nbconvert_exporter": "python",
   "pygments_lexer": "ipython3",
   "version": "3.9.0"
  },
  "rise": {
   "autolaunch": true,
   "backimage": "mybackimage.png",
   "scroll": true
  }
 },
 "nbformat": 4,
 "nbformat_minor": 5
}
