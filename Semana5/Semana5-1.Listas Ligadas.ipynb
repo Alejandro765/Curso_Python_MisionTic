{
 "cells": [
  {
   "attachments": {},
   "cell_type": "markdown",
   "id": "62a5f2f1",
   "metadata": {
    "slideshow": {
     "slide_type": "slide"
    }
   },
   "source": [
    "# 1. Introducción\n",
    "- Una lista ligada es una colección de elementos que están enlazados entre sí, en donde cada elementos contiene un valor hacia los otros elementos.\n",
    "- Se dice que es eficiente porque permiten un menor desperdicio de memoria y además los algoritmos para se manejo suelen ser menos costosos computacionalmente.\n",
    "- Forma alterna de  representación en la cual las operaciones de inserción y borrado sean eficientes.\n",
    "\n",
    "<center><img src=\"Figures/S5-ListaLigadaSimple.png\" width=\"1000\" height=\"1100\"></center>"
   ]
  },
  {
   "cell_type": "markdown",
   "id": "981d1397",
   "metadata": {
    "slideshow": {
     "slide_type": "slide"
    }
   },
   "source": [
    "Forma general de como se debe agregar un nuevo elemento a la estructura:\n",
    " \n",
    "\n",
    "<center><img src=\"Figures/S5-LLNuevoValor.png\" width=\"500\" height=\"800\"></center>"
   ]
  },
  {
   "cell_type": "markdown",
   "id": "e5d52a02",
   "metadata": {
    "slideshow": {
     "slide_type": "subslide"
    }
   },
   "source": [
    "# Nodo\n",
    "- El bloque constructivo básico para la implementación de la lista enlazada es el nodo. \n",
    "- Cada objeto nodo debe contener al menos dos piezas de información. En primer lugar, el nodo debe contener el ítem de lista en sí mismo. \n",
    "- Cada nodo debe contener una referencia al siguiente nodo. \n",
    "- Para construir un nodo, usted debe proporcionar el valor inicial del dato del nodo.\n",
    "- El valor de referencia de Python `None` indicará el hecho de que no hay nodo siguiente.\n",
    "\n",
    "\n",
    "<center><img src=\"Figures/S5-Nodo.png\" width=\"500\" height=\"800\"></center>"
   ]
  },
  {
   "cell_type": "code",
   "execution_count": null,
   "id": "cb0afbcf",
   "metadata": {
    "slideshow": {
     "slide_type": "fragment"
    }
   },
   "outputs": [],
   "source": [
    "class nodoSimple:\n",
    " def __init__(self, d = None):\n",
    "     self.dato = d\n",
    "     self.liga = None\n",
    " def asignarDato(self, d):\n",
    "     self.dato = d\n",
    " def asignarLiga(self, x):\n",
    "     self.liga = x\n",
    " def retornarDato(self):\n",
    "     return self.dato\n",
    " def retornarLiga(self):\n",
    "     return self.liga"
   ]
  },
  {
   "cell_type": "code",
   "execution_count": null,
   "id": "bfdb2982",
   "metadata": {
    "slideshow": {
     "slide_type": "fragment"
    }
   },
   "outputs": [],
   "source": [
    "nodo1 = nodoSimple(\"Hola\")\n",
    "nodo2 = nodoSimple(\"grupos\")\n",
    "nodo3 = nodoSimple(\"82-83-84\")"
   ]
  },
  {
   "attachments": {},
   "cell_type": "markdown",
   "id": "83d94d2e",
   "metadata": {
    "slideshow": {
     "slide_type": "subslide"
    }
   },
   "source": [
    "# Lista\n",
    "- Una lista ligada estará representada por objetos de la clase LSL, los cuales tendrán una variable de instancia que apunte al primer objeto NodoSimple de la lista y otro que apunte al último, cuando la lista está vacía dichas variables apuntarán a None\n",
    "- La lista no ordenada se construirá a partir de una colección de nodos.\n",
    "- Cada uno vinculado al siguiente mediante referencias explícitas. \n",
    "- La clase LSL debe mantener una referencia al primer nodo y el último. "
   ]
  },
  {
   "cell_type": "code",
   "execution_count": 22,
   "id": "0d7c4bb2",
   "metadata": {
    "slideshow": {
     "slide_type": "fragment"
    }
   },
   "outputs": [],
   "source": [
    "class LSL:\n",
    " def __init__(self): #Constructor\n",
    "     self.primero = None\n",
    "     self.ultimo = None\n",
    "\n",
    " def primerNodo (self):\n",
    "     return self.primero\n",
    " \n",
    " def ultimoNodo (self):\n",
    "     return self.ultimo\n",
    " \n",
    " def esVacia (self):\n",
    "     return self.primero == None\n",
    " \n",
    " def finDeRecorrido (self, p):\n",
    "     return p == None\n",
    " \n",
    " def recorrerLista (self):\n",
    "     p = self.primerNodo()\n",
    "     while not self.finDeRecorrido(p):\n",
    "         print(p.retornarDato(), end = \", \")\n",
    "         p = p.retornarLiga()\n",
    "         \n",
    " def agregarDato (self, d):\n",
    "     x = nodoSimple(d)\n",
    "     p = self.primerNodo()\n",
    "     if p == None:\n",
    "         self.primero = x\n",
    "         self.ultimo = x\n",
    "     else:\n",
    "         self.ultimo.liga = x\n",
    "         self.ultimo = x\n",
    "         \n",
    " def buscarDondeInsertar (self, d):\n",
    "     p = self.primerNodo()\n",
    "     y = None\n",
    "     while not self.finDeRecorrido(p) and p.retornarDato() < d:\n",
    "         y = p\n",
    "         p = p.retornarLiga()\n",
    "     return y\n",
    " \n",
    " def insertar (self, d, y):\n",
    "     x = nodoSimple(d)\n",
    "     self.conectar(x, y)\n",
    "     \n",
    " def conectar (self, x, y):\n",
    "     if y == None:\n",
    "         if self.primero == None:\n",
    "             self.ultimo = x\n",
    "         else:\n",
    "             x.asignarLiga(self.primero)\n",
    "         self.primero = x\n",
    "         return\n",
    "     x.asignarLiga(y.retornarLiga())\n",
    "     y.asignarLiga(x)\n",
    "     if y == self.ultimo:\n",
    "         self.ultimo = x\n",
    "         \n",
    " def longitud (self):\n",
    "    p = self.primerNodo()\n",
    "    n = 0\n",
    "    while not self.finDeRecorrido(p):\n",
    "        n = n + 1\n",
    "        p = p.retornarLiga()\n",
    "    return n\n",
    "\n",
    " def buscarDato (self, d, y):\n",
    "    x = self.primerNodo()\n",
    "    while not self.finDeRecorrido(x) and x.retornarDato() != d:\n",
    "        y.asignarDato(x)\n",
    "        x = x.retornarLiga()\n",
    "    return x\n",
    "\n",
    " def borrar (self, x, y = None):\n",
    "    if x == None:\n",
    "        print(\"Dato no está en la lista\")\n",
    "        return\n",
    "    if y == None:\n",
    "        if x != self.primero:\n",
    "            print(\"Falta el anterior del dato a borrar\")\n",
    "            return\n",
    "    else:\n",
    "       y = y.retornarDato()\n",
    "       self.desconectar(x,y)\n",
    "       \n",
    " def desconectar (self, x, y):\n",
    "     if y == None:\n",
    "         self.primero = x.retornarLiga()\n",
    "         if self.esVacia():\n",
    "             self.ultimo = None\n",
    "     else:\n",
    "         y.asignarLiga(x.retornarLiga())\n",
    "         if x == self.ultimo:\n",
    "             self.ultimo = y"
   ]
  },
  {
   "cell_type": "markdown",
   "id": "206add9f",
   "metadata": {
    "slideshow": {
     "slide_type": "subslide"
    }
   },
   "source": [
    "- El método `estaVacia()`, simplemente comprueba si la cabeza de la lista es una referencia a None. El resultado de la expresión booleana self.primero == None sólo será verdadero si no hay nodos en la lista enlazada."
   ]
  },
  {
   "cell_type": "code",
   "execution_count": null,
   "id": "0b789727",
   "metadata": {
    "slideshow": {
     "slide_type": "fragment"
    }
   },
   "outputs": [],
   "source": [
    "class LSL:\n",
    " def __init__(self): #Constructor\n",
    "     self.primero = None\n",
    "     self.ultimo = None\n",
    " def esVacia (self):\n",
    "     return self.primero == None"
   ]
  },
  {
   "cell_type": "code",
   "execution_count": null,
   "id": "08371665",
   "metadata": {
    "slideshow": {
     "slide_type": "fragment"
    }
   },
   "outputs": [],
   "source": [
    "miLista = LSL()\n",
    "print(\"miLista está vacía?\",miLista.esVacia()) # Aún no hay elementos"
   ]
  },
  {
   "cell_type": "markdown",
   "id": "e42011a8",
   "metadata": {
    "slideshow": {
     "slide_type": "subslide"
    }
   },
   "source": [
    "### Agregando nodos\n",
    "1. El método `agregarDato()`. Crea un nuevo nodo y hace que el dato del nodo sea el elemeto recibido. Luego une el nuevo nodo a la estructura existente.  Cambia la referencia de la liga del nodo de ser necesario y la referencia del último nodo.\n",
    "2. El método `recorrerLista()`. Imprime el dato de cada nodo y el valor del atributo liga del último nodo.\n",
    "3. El método `finDeRecorrido()`. Válida si el valor del atributo liga para el nodo es None. Devolviendo True o False."
   ]
  },
  {
   "cell_type": "code",
   "execution_count": null,
   "id": "dd7b640f",
   "metadata": {
    "slideshow": {
     "slide_type": "fragment"
    }
   },
   "outputs": [],
   "source": [
    "class LSL:\n",
    "    def __init__(self): #Constructor\n",
    "        self.primero = None\n",
    "        self.ultimo = None\n",
    "    def agregarDato (self, d):\n",
    "        x = nodoSimple(d)\n",
    "        p = self.primerNodo()\n",
    "        if p == None:\n",
    "            self.primero = x\n",
    "            self.ultimo = x\n",
    "        else:\n",
    "            self.ultimo.liga = x\n",
    "            self.ultimo = x\n",
    "    def primerNodo(self):\n",
    "        return self.primero\n",
    "    def finDeRecorrido (self, p):\n",
    "        return p == None\n",
    "    def recorrerLista (self):\n",
    "        p = self.primerNodo()\n",
    "        while not self.finDeRecorrido(p):\n",
    "            print(p.retornarDato(), end = \", \")\n",
    "            p = p.retornarLiga()"
   ]
  },
  {
   "cell_type": "code",
   "execution_count": null,
   "id": "0f3bf1ac",
   "metadata": {},
   "outputs": [],
   "source": [
    "miLista = LSL()\n",
    "miLista.agregarDato(\"Hola\")\n",
    "miLista.agregarDato(\"grupos\")\n",
    "miLista.agregarDato(\"82-83-84\")\n",
    "\n",
    "print(miLista.recorrerLista())"
   ]
  },
  {
   "cell_type": "markdown",
   "id": "6a3a31bc",
   "metadata": {
    "slideshow": {
     "slide_type": "subslide"
    }
   },
   "source": [
    "### Insertar un nodo en la posición correspondiente\n",
    "1. El método `buscarDondeInsertar()`. Busca el nodo cuyo dato sea menor al dato recibido y devuelve la referencia del nodo, de lo contrario devuelve None.\n",
    "2. El método `insertar()`. Recibe el dato del nuevo nodo y la referencia del nodo que debe conectar con el nuevo. Este método crea un nuevo nodo con el dato recibido e invoca el método conectar enviandole el nuevo nodo y la referencia del nodo a conectar.\n",
    "3. El método `conectar()`, si el resultado de `buscarDondeInsertar()` es None, inserta el nuevo nodo en la primera posición, de no ser así, cambia las referencias de los nodos respectivos."
   ]
  },
  {
   "cell_type": "code",
   "execution_count": null,
   "id": "c36fda4d",
   "metadata": {
    "slideshow": {
     "slide_type": "fragment"
    }
   },
   "outputs": [],
   "source": [
    "class LSL:\n",
    "    def __init__(self): #Constructor\n",
    "        self.primero = None\n",
    "        self.ultimo = None\n",
    "    def buscarDondeInsertar (self, d):\n",
    "        p = self.primerNodo()\n",
    "        y = None\n",
    "        while not self.finDeRecorrido(p) and p.retornarDato() < d:\n",
    "            y = p\n",
    "            p = p.retornarLiga()\n",
    "        return y\n",
    "    def insertar (self, d, y):\n",
    "        x = nodoSimple(d)\n",
    "        self.conectar(x, y)\n",
    "    def primerNodo(self):\n",
    "        return self.primero\n",
    "    def finDeRecorrido (self, p):\n",
    "        return p == None\n",
    "    def conectar (self, x, y):\n",
    "        if y == None:\n",
    "            if self.primero == None:\n",
    "                self.ultimo = x\n",
    "            else:\n",
    "                x.asignarLiga(self.primero)\n",
    "            self.primero = x\n",
    "            return\n",
    "        x.asignarLiga(y.retornarLiga())\n",
    "        y.asignarLiga(x)\n",
    "        if y == self.ultimo:\n",
    "            self.ultimo = x"
   ]
  },
  {
   "cell_type": "code",
   "execution_count": null,
   "id": "89cad409",
   "metadata": {
    "slideshow": {
     "slide_type": "fragment"
    }
   },
   "outputs": [],
   "source": [
    "d = \"cómo están?\"\n",
    "x = miLista.buscarDondeInsertar(d)\n",
    "print(x.dato)\n",
    "miLista.insertar(d,x)\n",
    "print(miLista.recorrerLista())"
   ]
  },
  {
   "cell_type": "markdown",
   "id": "9722554d",
   "metadata": {
    "slideshow": {
     "slide_type": "subslide"
    }
   },
   "source": [
    "### Eliminar un nodo\n",
    "1. El método `buscarDato()`. Recibe el dato a buscar y un nodo vacío. Si encuentra el nodo que coincide, devuelve la referencia al nodo.\n",
    "2. El método `borrar()`. Recibe el resultado del método `buscarDato()` y el nodo creado anteriormente. Si el resultado no fue None, se procede a desconectar el nodo.\n",
    "3. El método `desconectar()`. Modifica las referencias en el atributo liga, para desconectar el nodo a eliminar.\n"
   ]
  },
  {
   "cell_type": "code",
   "execution_count": null,
   "id": "a058cff1",
   "metadata": {
    "slideshow": {
     "slide_type": "fragment"
    }
   },
   "outputs": [],
   "source": [
    "class LSL:\n",
    "    def __init__(self): #Constructor\n",
    "        self.primero = None\n",
    "        self.ultimo = None\n",
    "    def buscarDato (self, d, y):\n",
    "        x = self.primerNodo()\n",
    "        while not self.finDeRecorrido(x) and x.retornarDato() != d:\n",
    "            y.asignarDato(x)\n",
    "            x = x.retornarLiga()\n",
    "        return x\n",
    "    def borrar (self, x, y = None):\n",
    "        if x == None:\n",
    "            print(\"Dato no está en la lista\")\n",
    "            return\n",
    "        if y == None:\n",
    "            if x != self.primero:\n",
    "                print(\"Falta el anterior del dato a borrar\")\n",
    "                return\n",
    "        else:\n",
    "            y = y.retornarDato()\n",
    "            self.desconectar(x,y)\n",
    "       \n",
    "    def desconectar (self, x, y):\n",
    "         if y == None:\n",
    "                self.primero = x.retornarLiga()\n",
    "                if self.esVacia():\n",
    "                    self.ultimo = None\n",
    "        else:\n",
    "            y.asignarLiga(x.retornarLiga())\n",
    "            if x == self.ultimo:\n",
    "                self.ultimo = y\n",
    "    def finDeRecorrido (self, p):\n",
    "        return p == None"
   ]
  },
  {
   "cell_type": "code",
   "execution_count": 25,
   "id": "1d634c4d",
   "metadata": {
    "slideshow": {
     "slide_type": "subslide"
    }
   },
   "outputs": [
    {
     "name": "stdout",
     "output_type": "stream",
     "text": [
      "grupos\n",
      "Hola, cómo están?, 82-83-84, None\n"
     ]
    }
   ],
   "source": [
    "d = \"grupos\"\n",
    "vacio = nodoSimple()\n",
    "x = miLista.buscarDato(d,vacio)\n",
    "print(x.dato)\n",
    "miLista.borrar(x, vacio)\n",
    "print(miLista.recorrerLista())"
   ]
  },
  {
   "cell_type": "markdown",
   "id": "fffab3c4",
   "metadata": {
    "slideshow": {
     "slide_type": "slide"
    }
   },
   "source": [
    "# Ejercicios"
   ]
  },
  {
   "cell_type": "markdown",
   "id": "c41d70ac",
   "metadata": {
    "slideshow": {
     "slide_type": "fragment"
    }
   },
   "source": [
    "•\tEjercicio [Vehiculo] -> Codifique el siguiente programa:\n",
    "- Cree la clase\n"
   ]
  }
 ],
 "metadata": {
  "celltoolbar": "Slideshow",
  "kernelspec": {
   "display_name": "Python 3",
   "language": "python",
   "name": "python3"
  },
  "language_info": {
   "codemirror_mode": {
    "name": "ipython",
    "version": 3
   },
   "file_extension": ".py",
   "mimetype": "text/x-python",
   "name": "python",
   "nbconvert_exporter": "python",
   "pygments_lexer": "ipython3",
   "version": "3.9.0"
  },
  "rise": {
   "autolaunch": true,
   "backimage": "mybackimage.png",
   "scroll": true
  }
 },
 "nbformat": 4,
 "nbformat_minor": 5
}
